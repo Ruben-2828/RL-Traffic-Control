{
 "cells": [
  {
   "cell_type": "code",
   "outputs": [],
   "source": [
    "\n",
    "from scripts.utils.runner import Runner\n",
    "from scripts.utils.config_parser import ConfigsParser\n",
    "\n",
    "from scripts.utils.plotter import Plotter\n",
    "\n",
    "config_parser = ConfigsParser('configs/config_dqn.yaml')\n",
    "config_parser.parse()\n",
    "plotter_configs = config_parser.get_plotter_config()\n",
    "runner_configs = config_parser.get_runner_config()\n",
    "\n",
    "\n",
    "r = Runner(runner_configs, None)\n",
    "r.run()\n",
    "\n",
    "\n"
   ],
   "metadata": {
    "collapsed": false
   },
   "id": "f208ee9c525233d4"
  },
  {
   "cell_type": "code",
   "outputs": [],
   "source": [
    "p = Plotter()\n",
    "p.set_configs(plotter_configs)\n",
    "p.add_csv('output/csv/dqn/medium/DQN_run_1')\n",
    "p.build_plot()"
   ],
   "metadata": {
    "collapsed": false
   },
   "id": "345db40164488a2a"
  }
 ],
 "metadata": {
  "kernelspec": {
   "display_name": "Python 3",
   "language": "python",
   "name": "python3"
  },
  "language_info": {
   "codemirror_mode": {
    "name": "ipython",
    "version": 2
   },
   "file_extension": ".py",
   "mimetype": "text/x-python",
   "name": "python",
   "nbconvert_exporter": "python",
   "pygments_lexer": "ipython2",
   "version": "2.7.6"
  }
 },
 "nbformat": 4,
 "nbformat_minor": 5
}
